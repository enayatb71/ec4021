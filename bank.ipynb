{
 "cells": [
  {
   "cell_type": "code",
   "execution_count": 31,
   "metadata": {},
   "outputs": [
    {
     "name": "stdout",
     "output_type": "stream",
     "text": [
      "ali  balance is :  10000 Rial\n",
      "ali  deposit  1000  Rial \n",
      "new balance is   11000  Rial \n",
      "ali  withdraw  2000  Rial \n",
      "new balance is   9000  Rial \n"
     ]
    },
    {
     "data": {
      "text/plain": [
       "[{'account': 101, 'name': 'ali', 'balance': 9000},\n",
       " {'account': 102, 'name': 'ahmad', 'balance': 15000},\n",
       " {'account': 103, 'name': 'maryam', 'balance': 22000}]"
      ]
     },
     "execution_count": 31,
     "metadata": {},
     "output_type": "execute_result"
    }
   ],
   "source": [
    "# define customers data\n",
    "data_base = [\n",
    "    {\"account\":101,\"name\":\"ali\",\"balance\":10000},\n",
    "    {\"account\":102,\"name\":\"ahmad\",\"balance\":15000},\n",
    "    {\"account\":103,\"name\":\"maryam\",\"balance\":22000}\n",
    "    ]\n",
    "#define class\n",
    "class bank:\n",
    "    #show customer balance\n",
    "    def inventory(self,account):\n",
    "        #search in data_base\n",
    "        for item in data_base:\n",
    "            if(item['account'] == account):\n",
    "                print(item['name'],\" balance is : \",item['balance'],\"Rial\")\n",
    "    #Deposit from the account\n",
    "    def deposit(self,account,amount):\n",
    "        #search in data_base\n",
    "        for item in data_base:\n",
    "            if(item['account'] == account):\n",
    "                item['balance'] += amount\n",
    "                print(item['name'],\" deposit \",amount,\" Rial \")\n",
    "                print(\"new balance is  \",item['balance'],\" Rial \")\n",
    "    #withdraw from bank account\n",
    "    def withdraw(self,account,amount):\n",
    "        #search in data_base\n",
    "        for item in data_base:\n",
    "            if(item['account'] == account):\n",
    "                item['balance'] -= amount\n",
    "                print(item['name'],\" withdraw \",amount,\" Rial \")\n",
    "                print(\"new balance is  \",item['balance'],\" Rial \")            \n",
    "#Example\n",
    "customer = bank()\n",
    "customer.inventory(101)\n",
    "customer.deposit(101,1000)\n",
    "customer.withdraw(101,2000)\n",
    "data_base\n"
   ]
  }
 ],
 "metadata": {
  "kernelspec": {
   "display_name": "Python 3",
   "language": "python",
   "name": "python3"
  },
  "language_info": {
   "codemirror_mode": {
    "name": "ipython",
    "version": 3
   },
   "file_extension": ".py",
   "mimetype": "text/x-python",
   "name": "python",
   "nbconvert_exporter": "python",
   "pygments_lexer": "ipython3",
   "version": "3.11.4"
  },
  "orig_nbformat": 4
 },
 "nbformat": 4,
 "nbformat_minor": 2
}
